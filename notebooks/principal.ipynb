{
  "cells": [
    {
      "cell_type": "markdown",
      "metadata": {
        "id": "view-in-github",
        "colab_type": "text"
      },
      "source": [
        "<a href=\"https://colab.research.google.com/github/lfcomparoni/face_recognition_liveness_detection/blob/master/notebooks/principal.ipynb\" target=\"_parent\"><img src=\"https://colab.research.google.com/assets/colab-badge.svg\" alt=\"Open In Colab\"/></a>"
      ]
    },
    {
      "cell_type": "markdown",
      "source": [
        "#**MBA FIAP Inteligência Artificial & Machine Learning**\n",
        "##Visão Computacional: sistema antifraude\n",
        "###Construir\n",
        "* Detector de faces\n",
        "* Identificação de faces (podendo ser um comparador entre um rosto de documento e outra da prova de vida)\n",
        "* Detecção de vivacidade (liveness) para evitar que um fraudador utilize uma foto estática.\n",
        "\n",
        "Referências que abordam o tema para servir de inspiração:\n",
        "\n",
        "1. [PyImageSearch](https://pyimagesearch.com/2019/03/11/liveness-detection-with-opencv/), Liveness detection with OpenCV;\n",
        "2. [Kickertech](https://kickertech.com/face-liveness-detection-via-opencv-and-tensorflow/), Liveness detection via OpenCV and Tensorflow.\n",
        "3. [Towards Data Science](https://towardsdatascience.com/real-time-face-liveness-detection-with-python-keras-and-opencv-c35dc70dafd3?gi=24f8e1b740f9), Real-time face liveness detection with Python, Keras and OpenCV."
      ],
      "metadata": {
        "id": "LPp6jRkhcIms"
      }
    },
    {
      "cell_type": "markdown",
      "source": [
        "Etapas para construção da detecção de vivacidade\n",
        "1. Carregamento de pacotes\n",
        "2. Habilitação e coleta de imagens ou vídeos pela webcam\n",
        "3. Classificação dos dados como foto real ou foto estática"
      ],
      "metadata": {
        "id": "sEBmeNfVga1v"
      }
    },
    {
      "cell_type": "markdown",
      "source": [
        "## 1. Carregamento das Libs"
      ],
      "metadata": {
        "id": "S32OvLdijnXz"
      }
    },
    {
      "cell_type": "code",
      "source": [
        "import cv2\n",
        "import numpy as np\n",
        "import imutils\n",
        "import dlib\n",
        "\n",
        "from google.colab import output\n",
        "from IPython.display import display, Javascript"
      ],
      "metadata": {
        "id": "5M-5LPaWcIB_"
      },
      "execution_count": 2,
      "outputs": []
    },
    {
      "cell_type": "markdown",
      "source": [
        "## 2. Configurações de diretório"
      ],
      "metadata": {
        "id": "38SnDwDoubr0"
      }
    },
    {
      "cell_type": "code",
      "source": [],
      "metadata": {
        "id": "HUh9Iq-pub7e"
      },
      "execution_count": null,
      "outputs": []
    },
    {
      "cell_type": "markdown",
      "source": [
        "##2. Funções"
      ],
      "metadata": {
        "id": "M9Pc5K0JpDzS"
      }
    },
    {
      "cell_type": "code",
      "source": [
        "#Habilitar Webcam\n",
        "def enable_camera():\n",
        "    display(Javascript('''\n",
        "        async function enableCamera() {\n",
        "            const stream = await navigator.mediaDevices.getUserMedia({ video: true });\n",
        "            const video = document.createElement('video');\n",
        "            document.body.appendChild(video);\n",
        "            video.srcObject = stream;\n",
        "            await video.play();\n",
        "            google.colab.output.setIframeHeight(document.documentElement.scrollHeight, true);\n",
        "        }\n",
        "        enableCamera();\n",
        "    '''))\n",
        "\n",
        "\n",
        "\n",
        "#Detecção de faces\n",
        "def detect_faces():\n",
        "    # Inicializa a captura da webcam\n",
        "    cap = cv2.VideoCapture(0)\n",
        "\n",
        "    # Carrega o classificador de rosto pré-treinado\n",
        "    face_cascade = cv2.CascadeClassifier(cv2.data.haarcascades + 'haarcascade_frontalface_default.xml')\n",
        "\n",
        "    while True:\n",
        "        # Captura o quadro da webcam\n",
        "        ret, frame = cap.read()\n",
        "        if not ret:\n",
        "            break\n",
        "\n",
        "        # Converte o quadro para escala de cinza\n",
        "        gray = cv2.cvtColor(frame, cv2.COLOR_BGR2GRAY)\n",
        "\n",
        "        # Detecta rostos no quadro\n",
        "        faces = face_cascade.detectMultiScale(gray, scaleFactor=1.1, minNeighbors=5, minSize=(30, 30))\n",
        "\n",
        "        # Desenha retângulos ao redor dos rostos detectados\n",
        "        for (x, y, w, h) in faces:\n",
        "            cv2.rectangle(frame, (x, y), (x+w, y+h), (255, 0, 0), 2)\n",
        "\n",
        "        # Exibe o quadro com os retângulos desenhados\n",
        "        cv2.imshow('Face Detection', frame)\n",
        "\n",
        "        # Verifica se o usuário pressionou a tecla 'q' para sair\n",
        "        if cv2.waitKey(1) & 0xFF == ord('q'):\n",
        "            break\n",
        "\n",
        "    # Libera a captura e fecha a janela\n",
        "    cap.release()\n",
        "    cv2.destroyAllWindows()\n"
      ],
      "metadata": {
        "id": "49EAXAOjnoAH"
      },
      "execution_count": 20,
      "outputs": []
    },
    {
      "cell_type": "code",
      "source": [
        "enable_camera()\n",
        "\n",
        "detect_faces()\n"
      ],
      "metadata": {
        "id": "rjoHEHoVj1JY"
      },
      "execution_count": null,
      "outputs": []
    },
    {
      "cell_type": "code",
      "source": [
        "def teste():\n",
        "    # Inicializa a captura da webcam\n",
        "    cap = cv2.VideoCapture(0)\n",
        "\n",
        "    # Loop para capturar quadros da webcam\n",
        "    while True:\n",
        "        # Captura o quadro da webcam\n",
        "        ret, frame = cap.read()\n",
        "        if not ret:\n",
        "            break\n",
        "\n",
        "        # Exibe o quadro\n",
        "        cv2.imshow('Webcam', frame)\n",
        "\n",
        "        # Verifica se o usuário pressionou a tecla 's' para salvar a imagem\n",
        "        key = cv2.waitKey(1)\n",
        "        if key & 0xFF == ord('s'):\n",
        "            # Salva o quadro como uma imagem em um local específico\n",
        "            cv2.imwrite('/content/meu_diretorio/imagem_salva.jpg', frame)\n",
        "            print(\"Imagem salva como '/content/meu_diretorio/imagem_salva.jpg'.\")\n",
        "\n",
        "        # Verifica se o usuário pressionou a tecla 'q' para sair\n",
        "        if key & 0xFF == ord('q'):\n",
        "            break\n",
        "\n",
        "    # Libera a captura e fecha a janela\n",
        "    cap.release()\n",
        "    cv2.destroyAllWindows()\n",
        "# Habilita a câmera\n",
        "enable_camera()\n",
        "teste()"
      ],
      "metadata": {
        "id": "mbkGzF3bpkIX"
      },
      "execution_count": null,
      "outputs": []
    },
    {
      "cell_type": "code",
      "source": [
        "from google.colab import files\n",
        "\n",
        "# Baixa o arquivo de imagem salvo\n",
        "files.download('imagem_salva.jpg')"
      ],
      "metadata": {
        "id": "sMuMTz9CtOtA",
        "outputId": "4d6d7e4f-b872-4d29-cc69-cf85b76197af",
        "colab": {
          "base_uri": "https://localhost:8080/",
          "height": 297
        }
      },
      "execution_count": 24,
      "outputs": [
        {
          "output_type": "error",
          "ename": "FileNotFoundError",
          "evalue": "Cannot find file: imagem_salva.jpg",
          "traceback": [
            "\u001b[0;31m---------------------------------------------------------------------------\u001b[0m",
            "\u001b[0;31mFileNotFoundError\u001b[0m                         Traceback (most recent call last)",
            "\u001b[0;32m<ipython-input-24-db0dcdc097e1>\u001b[0m in \u001b[0;36m<cell line: 4>\u001b[0;34m()\u001b[0m\n\u001b[1;32m      2\u001b[0m \u001b[0;34m\u001b[0m\u001b[0m\n\u001b[1;32m      3\u001b[0m \u001b[0;31m# Baixa o arquivo de imagem salvo\u001b[0m\u001b[0;34m\u001b[0m\u001b[0;34m\u001b[0m\u001b[0m\n\u001b[0;32m----> 4\u001b[0;31m \u001b[0mfiles\u001b[0m\u001b[0;34m.\u001b[0m\u001b[0mdownload\u001b[0m\u001b[0;34m(\u001b[0m\u001b[0;34m'imagem_salva.jpg'\u001b[0m\u001b[0;34m)\u001b[0m\u001b[0;34m\u001b[0m\u001b[0;34m\u001b[0m\u001b[0m\n\u001b[0m",
            "\u001b[0;32m/usr/local/lib/python3.10/dist-packages/google/colab/files.py\u001b[0m in \u001b[0;36mdownload\u001b[0;34m(filename)\u001b[0m\n\u001b[1;32m    223\u001b[0m   \u001b[0;32mif\u001b[0m \u001b[0;32mnot\u001b[0m \u001b[0m_os\u001b[0m\u001b[0;34m.\u001b[0m\u001b[0mpath\u001b[0m\u001b[0;34m.\u001b[0m\u001b[0mexists\u001b[0m\u001b[0;34m(\u001b[0m\u001b[0mfilename\u001b[0m\u001b[0;34m)\u001b[0m\u001b[0;34m:\u001b[0m\u001b[0;34m\u001b[0m\u001b[0;34m\u001b[0m\u001b[0m\n\u001b[1;32m    224\u001b[0m     \u001b[0mmsg\u001b[0m \u001b[0;34m=\u001b[0m \u001b[0;34m'Cannot find file: {}'\u001b[0m\u001b[0;34m.\u001b[0m\u001b[0mformat\u001b[0m\u001b[0;34m(\u001b[0m\u001b[0mfilename\u001b[0m\u001b[0;34m)\u001b[0m\u001b[0;34m\u001b[0m\u001b[0;34m\u001b[0m\u001b[0m\n\u001b[0;32m--> 225\u001b[0;31m     \u001b[0;32mraise\u001b[0m \u001b[0mFileNotFoundError\u001b[0m\u001b[0;34m(\u001b[0m\u001b[0mmsg\u001b[0m\u001b[0;34m)\u001b[0m  \u001b[0;31m# pylint: disable=undefined-variable\u001b[0m\u001b[0;34m\u001b[0m\u001b[0;34m\u001b[0m\u001b[0m\n\u001b[0m\u001b[1;32m    226\u001b[0m \u001b[0;34m\u001b[0m\u001b[0m\n\u001b[1;32m    227\u001b[0m   \u001b[0mcomm_manager\u001b[0m \u001b[0;34m=\u001b[0m \u001b[0m_IPython\u001b[0m\u001b[0;34m.\u001b[0m\u001b[0mget_ipython\u001b[0m\u001b[0;34m(\u001b[0m\u001b[0;34m)\u001b[0m\u001b[0;34m.\u001b[0m\u001b[0mkernel\u001b[0m\u001b[0;34m.\u001b[0m\u001b[0mcomm_manager\u001b[0m\u001b[0;34m\u001b[0m\u001b[0;34m\u001b[0m\u001b[0m\n",
            "\u001b[0;31mFileNotFoundError\u001b[0m: Cannot find file: imagem_salva.jpg"
          ]
        }
      ]
    },
    {
      "cell_type": "code",
      "source": [
        "# Verifica o diretório atual\n",
        "!pwd\n",
        "\n",
        "# Lista os arquivos no diretório atual\n",
        "!ls"
      ],
      "metadata": {
        "id": "WQygo3A3tghJ",
        "outputId": "02a86a89-40cf-46fa-b029-51dda7f69de7",
        "colab": {
          "base_uri": "https://localhost:8080/"
        }
      },
      "execution_count": 25,
      "outputs": [
        {
          "output_type": "stream",
          "name": "stdout",
          "text": [
            "/content\n",
            "sample_data\n"
          ]
        }
      ]
    }
  ],
  "metadata": {
    "colab": {
      "name": "Olá, este é o Colaboratory",
      "toc_visible": true,
      "provenance": [],
      "include_colab_link": true
    },
    "kernelspec": {
      "display_name": "Python 3",
      "name": "python3"
    }
  },
  "nbformat": 4,
  "nbformat_minor": 0
}